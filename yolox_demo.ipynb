{
 "cells": [
  {
   "cell_type": "code",
   "execution_count": null,
   "metadata": {},
   "outputs": [],
   "source": [
    "# Clone the repo & change directory to it\n",
    "!git clone https://github.com/Megvii-BaseDetection/YOLOX.git\n",
    "%cd YOLOX\n",
    "\n",
    "# Install necessary libraries to run YOLOX\n",
    "!python3 setup.py develop\n",
    "\n",
    "# Install YOLOX medium weights & download picture of crowded people.\n",
    "!wget https://github.com/Megvii-BaseDetection/YOLOX/releases/download/0.1.1rc0/yolox_m.pth\n",
    "!wget -O test.png https://images.unsplash.com/photo-1501386761578-eac5c94b800a?q=80&w=1000&auto=format&fit=crop&ixlib=rb-4.0.3&ixid=M3wxMjA3fDB8MHxzZWFyY2h8Mnx8Y3Jvd2QlMjBvZiUyMHBlb3BsZXxlbnwwfHwwfHx8MA%3D%3D\n",
    "\n",
    "# Run the model for inference.\n",
    "!python tools/demo.py image -n yolox-m -c /content/YOLOX/yolox_m.pth --path /content/YOLOX/test.png --conf 0.85 --nms 0.45 --tsize 640 --save_result --device [cpu/gpu]"
   ]
  }
 ],
 "metadata": {
  "language_info": {
   "name": "python"
  },
  "orig_nbformat": 4
 },
 "nbformat": 4,
 "nbformat_minor": 2
}
